{
 "cells": [
  {
   "cell_type": "code",
   "execution_count": null,
   "metadata": {},
   "outputs": [],
   "source": [
    "import codecademylib\n",
    "import numpy as np\n",
    "import matplotlib.pyplot as plt\n",
    "\n"
   ]
  },
  {
   "cell_type": "code",
   "execution_count": null,
   "metadata": {},
   "outputs": [],
   "source": [
    "survey_responses = ['Ceballos', 'Kerrigan', 'Ceballos', 'Ceballos', 'Ceballos','Kerrigan', 'Kerrigan', 'Ceballos', 'Ceballos', 'Ceballos', \n",
    "'Kerrigan', 'Kerrigan', 'Ceballos', 'Ceballos', 'Kerrigan', 'Kerrigan', 'Ceballos', 'Ceballos', 'Kerrigan', 'Kerrigan', 'Kerrigan', 'Kerrigan', 'Kerrigan', 'Kerrigan', 'Ceballos', 'Ceballos', 'Ceballos', 'Ceballos', 'Ceballos', 'Ceballos',\n",
    "'Kerrigan', 'Kerrigan', 'Ceballos', 'Ceballos', 'Ceballos', 'Kerrigan', 'Kerrigan', 'Ceballos', 'Ceballos', 'Kerrigan', 'Kerrigan', 'Ceballos', 'Ceballos', 'Kerrigan', 'Kerrigan', 'Kerrigan', 'Kerrigan', 'Kerrigan', 'Kerrigan', 'Ceballos',\n",
    "'Kerrigan', 'Kerrigan', 'Ceballos', 'Ceballos', 'Ceballos', 'Kerrigan', 'Kerrigan', 'Ceballos', 'Ceballos', 'Kerrigan', 'Kerrigan', 'Ceballos', 'Ceballos', 'Kerrigan', 'Kerrigan', 'Kerrigan', 'Kerrigan', 'Kerrigan', 'Kerrigan', 'Ceballos']\n",
    "#Total number of voters for Ceballos \n",
    "total_ceballos= sum([1 for every in survey_responses if every=='Ceballos' ])\n",
    "print (total_ceballos)\n",
    "\n",
    "#Percentage of people who voted for Ceballos \n",
    "\n",
    "percentage_ceballos=100 * total_ceballos/len(survey_responses)\n",
    "print (\"{}%\".format(percentage_ceballos))\n",
    "\n",
    "########\n",
    "possible_surveys=np.random.binomial(len(survey_responses),0.54, size=10000)/len(survey_responses)\n",
    "print (possible_surveys)\n",
    "#plotting histogram for possible_surveys \n",
    "plt.hist(possible_surveys ,bins=20)\n",
    "plt.show()\n",
    "\n",
    "possible_survey_length= float(len(possible_surveys))\n",
    "\n",
    "wrong_predictions=len(possible_surveys[possible_surveys<0.5])\n",
    "\n",
    "ceballos_loss_surveys=wrong_predictions/possible_survey_length\n",
    "\n",
    "print(ceballos_loss_surveys)\n",
    "\n",
    "large_survey_length= float(7000)\n",
    "large_survey= np.random.binomial(large_survey_length,0.54, size=10000 )/large_survey_length\n",
    "\n",
    "\n",
    "wrong_predictions=len(large_survey[large_survey<0.5])\n",
    "\n",
    "ceballos_loss_new=wrong_predictions/large_survey_length\n",
    "\n",
    "print(ceballos_loss_new)"
   ]
  }
 ],
 "metadata": {
  "kernelspec": {
   "display_name": "Python 3",
   "language": "python",
   "name": "python3"
  },
  "language_info": {
   "codemirror_mode": {
    "name": "ipython",
    "version": 3
   },
   "file_extension": ".py",
   "mimetype": "text/x-python",
   "name": "python",
   "nbconvert_exporter": "python",
   "pygments_lexer": "ipython3",
   "version": "3.7.6"
  }
 },
 "nbformat": 4,
 "nbformat_minor": 4
}
